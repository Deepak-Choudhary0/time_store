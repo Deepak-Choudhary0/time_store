{
 "cells": [
  {
   "cell_type": "markdown",
   "id": "7de33dc8",
   "metadata": {},
   "source": [
    "# Importing required Dependencies"
   ]
  },
  {
   "cell_type": "code",
   "execution_count": 1,
   "id": "fe6c0e62",
   "metadata": {},
   "outputs": [],
   "source": [
    "import pandas as pd\n",
    "from flask import Flask, jsonify, request\n",
    "import sqlite3\n",
    "import requests"
   ]
  },
  {
   "cell_type": "code",
   "execution_count": 2,
   "id": "4fdc4998",
   "metadata": {},
   "outputs": [],
   "source": [
    "buisness_hours_df = pd.read_csv('buisness_hours.csv')\n",
    "store_status_df = pd.read_csv('store_status.csv')\n",
    "timezones_df = pd.read_csv('timezones.csv')"
   ]
  },
  {
   "cell_type": "markdown",
   "id": "af1b8d91",
   "metadata": {},
   "source": [
    "## Checking null values and filling them with default values"
   ]
  },
  {
   "cell_type": "code",
   "execution_count": 3,
   "id": "9ffa252b",
   "metadata": {},
   "outputs": [
    {
     "name": "stdout",
     "output_type": "stream",
     "text": [
      "<bound method NDFrame.head of                   store_id  day start_time_local end_time_local\n",
      "0      1481966498820158979    4         00:00:00       00:10:00\n",
      "1      1481966498820158979    2         00:00:00       00:10:00\n",
      "2      1481966498820158979    0         00:00:00       00:10:00\n",
      "3      1481966498820158979    1         00:00:00       00:10:00\n",
      "4      1481966498820158979    5         00:00:00       00:10:00\n",
      "...                    ...  ...              ...            ...\n",
      "86193  1774428314218854399    4         00:00:00       23:59:59\n",
      "86194  1774428314218854399    6         00:00:00       23:59:59\n",
      "86195  1774428314218854399    3         00:00:00       23:59:59\n",
      "86196  1774428314218854399    2         00:00:00       23:59:59\n",
      "86197  1774428314218854399    1         00:00:00       23:59:59\n",
      "\n",
      "[86198 rows x 4 columns]>\n",
      "<bound method NDFrame.head of                     store_id    status                   timestamp_utc\n",
      "0        8419537941919820732    active  2023-01-22 12:09:39.388884 UTC\n",
      "1          54515546588432327    active  2023-01-24 09:06:42.605777 UTC\n",
      "2        8377465688456570187    active  2023-01-24 09:07:26.441407 UTC\n",
      "3        5955337179846162144    active  2023-01-24 09:08:07.634899 UTC\n",
      "4        1169347689335808384    active  2023-01-24 09:08:18.436854 UTC\n",
      "...                      ...       ...                             ...\n",
      "1822075  9103029069217106077  inactive  2023-01-20 09:02:21.705125 UTC\n",
      "1822076  5532343280896549215  inactive  2023-01-21 02:03:58.311087 UTC\n",
      "1822077  3794430814933142786  inactive  2023-01-21 04:04:20.916254 UTC\n",
      "1822078  4192592653801050907  inactive  2023-01-21 15:11:50.902575 UTC\n",
      "1822079  3846497499881872792  inactive  2023-01-21 08:04:26.177456 UTC\n",
      "\n",
      "[1822080 rows x 3 columns]>\n",
      "<bound method NDFrame.head of                   store_id                  timezone_str\n",
      "0      8139926242460185114                   Asia/Beirut\n",
      "1      5415949628544298339                 America/Boise\n",
      "2      3408529570017053440                America/Denver\n",
      "3      9055649751952768824                America/Denver\n",
      "4      4428372089193592098                America/Denver\n",
      "...                    ...                           ...\n",
      "13554  8281452819447825055  America/Indiana/Indianapolis\n",
      "13555  8095410679721836114  America/Indiana/Indianapolis\n",
      "13556  5588208013269746483  America/Indiana/Indianapolis\n",
      "13557  7020170113785825189  America/Indiana/Indianapolis\n",
      "13558  7869742085537243781  America/Indiana/Indianapolis\n",
      "\n",
      "[13559 rows x 2 columns]>\n"
     ]
    }
   ],
   "source": [
    "print(buisness_hours_df.head)\n",
    "print(store_status_df.head)\n",
    "print(timezones_df.head)"
   ]
  },
  {
   "cell_type": "code",
   "execution_count": 4,
   "id": "f04167d8",
   "metadata": {},
   "outputs": [
    {
     "name": "stdout",
     "output_type": "stream",
     "text": [
      "0\n",
      "0\n",
      "0\n"
     ]
    }
   ],
   "source": [
    "print(buisness_hours_df.isnull().sum().sum())\n",
    "print(store_status_df.isnull().sum().sum())\n",
    "print(timezones_df.isnull().sum().sum())"
   ]
  },
  {
   "cell_type": "code",
   "execution_count": null,
   "id": "60f7e6c2",
   "metadata": {},
   "outputs": [],
   "source": [
    "column_name = \"end_time_local\"\n",
    "\n",
    "max_value = buisness_hours_df[column_name].max()\n",
    "\n",
    "\n",
    "print(f\"The maximum value in the '{column_name}' column is: {max_value}\")\n",
    "\n",
    "is_null_values = buisness_hours_df[column_name].isnull()\n",
    "\n",
    "num_null_values = is_null_values.sum()\n",
    "\n",
    "print(f\"The number of null values in '{column_name}' column: {num_null_values}\")"
   ]
  },
  {
   "cell_type": "markdown",
   "id": "09cdd21e",
   "metadata": {},
   "source": [
    "## Connecting to Database 'Stores'  in Sqlite3"
   ]
  },
  {
   "cell_type": "code",
   "execution_count": null,
   "id": "36acb359",
   "metadata": {},
   "outputs": [],
   "source": []
  },
  {
   "cell_type": "code",
   "execution_count": 23,
   "id": "12ebb4b2",
   "metadata": {},
   "outputs": [],
   "source": [
    "conn = sqlite3.connect(\"stores.db\")\n",
    "cursor = conn.cursor()\n",
    "\n",
    "query_store_status = '''CREATE TABLE store_status (\n",
    "        store_id VARCHAR(255) PRIMARY KEY,\n",
    "        timestamp_utc TIMESTAMP NOT NULL,\n",
    "        status VARCHAR(10) NOT NULL\n",
    "    );'''\n",
    "\n",
    "query_business_hours='''\n",
    "    CREATE TABLE business_hours (\n",
    "        store_id VARCHAR(255) PRIMARY KEY,\n",
    "        day_of_week INTEGER NOT NULL,\n",
    "        start_time_local TIME,\n",
    "        end_time_local TIME\n",
    "    );'''\n",
    "\n",
    "query_store_timezones='''\n",
    "    CREATE TABLE store_timezones (\n",
    "        store_id VARCHAR(255) PRIMARY KEY,\n",
    "        timezone_str VARCHAR(255) NOT NULL\n",
    "    );'''\n",
    "\n",
    "query_report_status='''\n",
    "    CREATE TABLE report_status (\n",
    "        report_id VARCHAR PRIMARY KEY,\n",
    "        status VARCHAR NOT NULL\n",
    "    );'''\n",
    "queries = [query_store_status,query_business_hours,query_store_timezones,query_report_status]\n",
    "for i in range(len(queries)):\n",
    "    cursor.execute(queries[i])\n",
    "conn.commit()\n",
    "conn.close()"
   ]
  },
  {
   "cell_type": "code",
   "execution_count": null,
   "id": "aacfebf8",
   "metadata": {},
   "outputs": [],
   "source": []
  }
 ],
 "metadata": {
  "kernelspec": {
   "display_name": "Python 3 (ipykernel)",
   "language": "python",
   "name": "python3"
  },
  "language_info": {
   "codemirror_mode": {
    "name": "ipython",
    "version": 3
   },
   "file_extension": ".py",
   "mimetype": "text/x-python",
   "name": "python",
   "nbconvert_exporter": "python",
   "pygments_lexer": "ipython3",
   "version": "3.10.12"
  },
  "varInspector": {
   "cols": {
    "lenName": 16,
    "lenType": 16,
    "lenVar": 40
   },
   "kernels_config": {
    "python": {
     "delete_cmd_postfix": "",
     "delete_cmd_prefix": "del ",
     "library": "var_list.py",
     "varRefreshCmd": "print(var_dic_list())"
    },
    "r": {
     "delete_cmd_postfix": ") ",
     "delete_cmd_prefix": "rm(",
     "library": "var_list.r",
     "varRefreshCmd": "cat(var_dic_list()) "
    }
   },
   "types_to_exclude": [
    "module",
    "function",
    "builtin_function_or_method",
    "instance",
    "_Feature"
   ],
   "window_display": false
  }
 },
 "nbformat": 4,
 "nbformat_minor": 5
}
